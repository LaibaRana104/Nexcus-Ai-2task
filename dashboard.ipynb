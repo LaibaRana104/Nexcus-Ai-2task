{
 "cells": [
  {
   "cell_type": "markdown",
   "id": "a87c2c1b",
   "metadata": {},
   "source": [
    "# Imports"
   ]
  },
  {
   "cell_type": "code",
   "execution_count": 1,
   "id": "b55c8df4",
   "metadata": {},
   "outputs": [],
   "source": [
    "import streamlit as st\n",
    "import pandas as pd\n",
    "import plotly.express as px"
   ]
  },
  {
   "cell_type": "markdown",
   "id": "fdd3c47e",
   "metadata": {},
   "source": [
    "# load dataset"
   ]
  },
  {
   "cell_type": "code",
   "execution_count": 3,
   "id": "a1214ed3",
   "metadata": {},
   "outputs": [],
   "source": [
    "def load_data():\n",
    "    df = pd.read_excel(\"Online_Retail.xlsx\")\n",
    "    df.drop_duplicates(inplace=True)\n",
    "    df = df.dropna(subset=[\"CustomerID\"])\n",
    "    df[\"InvoiceDate\"] = pd.to_datetime(df[\"InvoiceDate\"])\n",
    "    df[\"TotalPrice\"] = df[\"Quantity\"] * df[\"UnitPrice\"]\n",
    "    return df\n",
    "\n",
    "df = load_data()"
   ]
  },
  {
   "cell_type": "markdown",
   "id": "2e90cbb3",
   "metadata": {},
   "source": [
    "# side bar filters"
   ]
  },
  {
   "cell_type": "code",
   "execution_count": 4,
   "id": "e4c5f360",
   "metadata": {},
   "outputs": [
    {
     "name": "stderr",
     "output_type": "stream",
     "text": [
      "2025-09-17 10:44:24.744 Thread 'MainThread': missing ScriptRunContext! This warning can be ignored when running in bare mode.\n",
      "2025-09-17 10:44:24.745 Thread 'MainThread': missing ScriptRunContext! This warning can be ignored when running in bare mode.\n",
      "2025-09-17 10:44:24.747 Thread 'MainThread': missing ScriptRunContext! This warning can be ignored when running in bare mode.\n",
      "2025-09-17 10:44:24.800 Thread 'MainThread': missing ScriptRunContext! This warning can be ignored when running in bare mode.\n",
      "2025-09-17 10:44:24.802 Thread 'MainThread': missing ScriptRunContext! This warning can be ignored when running in bare mode.\n",
      "2025-09-17 10:44:24.806 Thread 'MainThread': missing ScriptRunContext! This warning can be ignored when running in bare mode.\n",
      "2025-09-17 10:44:24.807 Thread 'MainThread': missing ScriptRunContext! This warning can be ignored when running in bare mode.\n",
      "2025-09-17 10:44:24.809 Session state does not function when running a script without `streamlit run`\n",
      "2025-09-17 10:44:24.811 Thread 'MainThread': missing ScriptRunContext! This warning can be ignored when running in bare mode.\n",
      "2025-09-17 10:44:24.812 Thread 'MainThread': missing ScriptRunContext! This warning can be ignored when running in bare mode.\n",
      "2025-09-17 10:44:24.814 Thread 'MainThread': missing ScriptRunContext! This warning can be ignored when running in bare mode.\n",
      "2025-09-17 10:44:24.820 Thread 'MainThread': missing ScriptRunContext! This warning can be ignored when running in bare mode.\n",
      "2025-09-17 10:44:24.822 Thread 'MainThread': missing ScriptRunContext! This warning can be ignored when running in bare mode.\n",
      "2025-09-17 10:44:24.823 Thread 'MainThread': missing ScriptRunContext! This warning can be ignored when running in bare mode.\n",
      "2025-09-17 10:44:24.827 Thread 'MainThread': missing ScriptRunContext! This warning can be ignored when running in bare mode.\n",
      "2025-09-17 10:44:24.830 Thread 'MainThread': missing ScriptRunContext! This warning can be ignored when running in bare mode.\n",
      "2025-09-17 10:44:24.831 Thread 'MainThread': missing ScriptRunContext! This warning can be ignored when running in bare mode.\n"
     ]
    }
   ],
   "source": [
    "st.sidebar.header(\"Filters\")\n",
    "country = st.sidebar.selectbox(\"Select Country\", options=df[\"Country\"].unique())\n",
    "date_range = st.sidebar.date_input(\n",
    "    \"Select Date Range\",\n",
    "    [df[\"InvoiceDate\"].min(), df[\"InvoiceDate\"].max()]\n",
    ")\n",
    "\n",
    "# Apply filters\n",
    "df_filtered = df[(df[\"Country\"] == country) &\n",
    "                 (df[\"InvoiceDate\"].between(pd.to_datetime(date_range[0]), pd.to_datetime(date_range[1])))]\n"
   ]
  },
  {
   "cell_type": "markdown",
   "id": "b39b0710",
   "metadata": {},
   "source": [
    "# KPIs"
   ]
  },
  {
   "cell_type": "code",
   "execution_count": 5,
   "id": "c2d7d344",
   "metadata": {},
   "outputs": [
    {
     "name": "stderr",
     "output_type": "stream",
     "text": [
      "2025-09-17 10:45:11.426 Thread 'MainThread': missing ScriptRunContext! This warning can be ignored when running in bare mode.\n",
      "2025-09-17 10:45:11.427 Thread 'MainThread': missing ScriptRunContext! This warning can be ignored when running in bare mode.\n",
      "2025-09-17 10:45:11.429 Thread 'MainThread': missing ScriptRunContext! This warning can be ignored when running in bare mode.\n",
      "2025-09-17 10:45:11.430 Thread 'MainThread': missing ScriptRunContext! This warning can be ignored when running in bare mode.\n",
      "2025-09-17 10:45:11.432 Thread 'MainThread': missing ScriptRunContext! This warning can be ignored when running in bare mode.\n",
      "2025-09-17 10:45:11.433 Thread 'MainThread': missing ScriptRunContext! This warning can be ignored when running in bare mode.\n",
      "2025-09-17 10:45:11.435 Thread 'MainThread': missing ScriptRunContext! This warning can be ignored when running in bare mode.\n",
      "2025-09-17 10:45:11.436 Thread 'MainThread': missing ScriptRunContext! This warning can be ignored when running in bare mode.\n",
      "2025-09-17 10:45:11.437 Thread 'MainThread': missing ScriptRunContext! This warning can be ignored when running in bare mode.\n",
      "2025-09-17 10:45:11.439 Thread 'MainThread': missing ScriptRunContext! This warning can be ignored when running in bare mode.\n",
      "2025-09-17 10:45:11.440 Thread 'MainThread': missing ScriptRunContext! This warning can be ignored when running in bare mode.\n",
      "2025-09-17 10:45:11.441 Thread 'MainThread': missing ScriptRunContext! This warning can be ignored when running in bare mode.\n",
      "2025-09-17 10:45:11.755 Thread 'MainThread': missing ScriptRunContext! This warning can be ignored when running in bare mode.\n",
      "2025-09-17 10:45:11.756 Thread 'MainThread': missing ScriptRunContext! This warning can be ignored when running in bare mode.\n",
      "2025-09-17 10:45:11.758 Thread 'MainThread': missing ScriptRunContext! This warning can be ignored when running in bare mode.\n",
      "2025-09-17 10:45:11.760 Thread 'MainThread': missing ScriptRunContext! This warning can be ignored when running in bare mode.\n",
      "2025-09-17 10:45:11.761 Thread 'MainThread': missing ScriptRunContext! This warning can be ignored when running in bare mode.\n",
      "2025-09-17 10:45:11.919 Thread 'MainThread': missing ScriptRunContext! This warning can be ignored when running in bare mode.\n",
      "2025-09-17 10:45:11.920 Thread 'MainThread': missing ScriptRunContext! This warning can be ignored when running in bare mode.\n",
      "2025-09-17 10:45:11.922 Thread 'MainThread': missing ScriptRunContext! This warning can be ignored when running in bare mode.\n",
      "2025-09-17 10:45:11.923 Thread 'MainThread': missing ScriptRunContext! This warning can be ignored when running in bare mode.\n",
      "2025-09-17 10:45:11.924 Thread 'MainThread': missing ScriptRunContext! This warning can be ignored when running in bare mode.\n",
      "C:\\Users\\HP 840 G6\\AppData\\Local\\Temp\\ipykernel_9748\\4045419755.py:21: SettingWithCopyWarning:\n",
      "\n",
      "\n",
      "A value is trying to be set on a copy of a slice from a DataFrame.\n",
      "Try using .loc[row_indexer,col_indexer] = value instead\n",
      "\n",
      "See the caveats in the documentation: https://pandas.pydata.org/pandas-docs/stable/user_guide/indexing.html#returning-a-view-versus-a-copy\n",
      "\n",
      "2025-09-17 10:45:12.176 Thread 'MainThread': missing ScriptRunContext! This warning can be ignored when running in bare mode.\n",
      "2025-09-17 10:45:12.177 Thread 'MainThread': missing ScriptRunContext! This warning can be ignored when running in bare mode.\n",
      "2025-09-17 10:45:12.178 Thread 'MainThread': missing ScriptRunContext! This warning can be ignored when running in bare mode.\n",
      "2025-09-17 10:45:12.179 Thread 'MainThread': missing ScriptRunContext! This warning can be ignored when running in bare mode.\n",
      "2025-09-17 10:45:12.180 Thread 'MainThread': missing ScriptRunContext! This warning can be ignored when running in bare mode.\n",
      "2025-09-17 10:45:12.298 Thread 'MainThread': missing ScriptRunContext! This warning can be ignored when running in bare mode.\n",
      "2025-09-17 10:45:12.299 Thread 'MainThread': missing ScriptRunContext! This warning can be ignored when running in bare mode.\n",
      "2025-09-17 10:45:12.303 Thread 'MainThread': missing ScriptRunContext! This warning can be ignored when running in bare mode.\n",
      "2025-09-17 10:45:12.304 Thread 'MainThread': missing ScriptRunContext! This warning can be ignored when running in bare mode.\n",
      "2025-09-17 10:45:12.305 Thread 'MainThread': missing ScriptRunContext! This warning can be ignored when running in bare mode.\n"
     ]
    },
    {
     "data": {
      "text/plain": [
       "DeltaGenerator()"
      ]
     },
     "execution_count": 5,
     "metadata": {},
     "output_type": "execute_result"
    }
   ],
   "source": [
    "total_revenue = df_filtered[\"TotalPrice\"].sum()\n",
    "total_orders = df_filtered[\"InvoiceNo\"].nunique()\n",
    "avg_order_value = total_revenue / total_orders if total_orders > 0 else 0\n",
    "\n",
    "st.title(\"📊 Customer Insights Dashboard\")\n",
    "st.metric(\"Total Revenue\", f\"£{total_revenue:,.0f}\")\n",
    "st.metric(\"Total Orders\", total_orders)\n",
    "st.metric(\"Avg Order Value\", f\"£{avg_order_value:,.2f}\")\n",
    "\n",
    "# Daily revenue\n",
    "daily_sales = df_filtered.resample(\"D\", on=\"InvoiceDate\")[\"TotalPrice\"].sum().reset_index()\n",
    "fig1 = px.line(daily_sales, x=\"InvoiceDate\", y=\"TotalPrice\", title=\"Daily Revenue Trend\")\n",
    "st.plotly_chart(fig1)\n",
    "\n",
    "# Top products\n",
    "top_products = df_filtered.groupby(\"Description\")[\"TotalPrice\"].sum().sort_values(ascending=False).head(10).reset_index()\n",
    "fig2 = px.bar(top_products, x=\"TotalPrice\", y=\"Description\", orientation=\"h\", title=\"Top 10 Products by Revenue\")\n",
    "st.plotly_chart(fig2)\n",
    "\n",
    "# Revenue by weekday\n",
    "df_filtered[\"Weekday\"] = df_filtered[\"InvoiceDate\"].dt.day_name()\n",
    "weekday_rev = df_filtered.groupby(\"Weekday\")[\"TotalPrice\"].sum().reindex(\n",
    "    [\"Monday\",\"Tuesday\",\"Wednesday\",\"Thursday\",\"Friday\",\"Saturday\",\"Sunday\"]).reset_index()\n",
    "fig3 = px.bar(weekday_rev, x=\"Weekday\", y=\"TotalPrice\", title=\"Revenue by Weekday\")\n",
    "st.plotly_chart(fig3)\n",
    "\n",
    "# Revenue by country (overall)\n",
    "country_rev = df.groupby(\"Country\")[\"TotalPrice\"].sum().sort_values(ascending=False).head(10).reset_index()\n",
    "fig4 = px.bar(country_rev, x=\"Country\", y=\"TotalPrice\", title=\"Top 10 Countries by Revenue\")\n",
    "st.plotly_chart(fig4)"
   ]
  },
  {
   "cell_type": "markdown",
   "id": "4d2eae4b",
   "metadata": {},
   "source": [
    "# ---------------------------------------------------\n",
    "# 📌 Task 2: Interactive Dashboard (Retail Data)\n",
    "# ---------------------------------------------------\n",
    "\n",
    "import streamlit as st\n",
    "import pandas as pd\n",
    "import plotly.express as px\n",
    "\n",
    "# Load dataset\n",
    "@st.cache_data\n",
    "def load_data():\n",
    "    df = pd.read_excel(\"Online Retail.xlsx\")\n",
    "    df.drop_duplicates(inplace=True)\n",
    "    df = df.dropna(subset=[\"CustomerID\"])\n",
    "    df[\"InvoiceDate\"] = pd.to_datetime(df[\"InvoiceDate\"])\n",
    "    df[\"TotalPrice\"] = df[\"Quantity\"] * df[\"UnitPrice\"]\n",
    "    return df\n",
    "\n",
    "df = load_data()\n",
    "\n",
    "# Sidebar filters\n",
    "st.sidebar.header(\"Filters\")\n",
    "country = st.sidebar.selectbox(\"Select Country\", options=df[\"Country\"].unique())\n",
    "date_range = st.sidebar.date_input(\n",
    "    \"Select Date Range\",\n",
    "    [df[\"InvoiceDate\"].min(), df[\"InvoiceDate\"].max()]\n",
    ")\n",
    "\n",
    "# Apply filters\n",
    "df_filtered = df[(df[\"Country\"] == country) &\n",
    "                 (df[\"InvoiceDate\"].between(pd.to_datetime(date_range[0]), pd.to_datetime(date_range[1])))]\n",
    "\n",
    "# KPIs\n",
    "total_revenue = df_filtered[\"TotalPrice\"].sum()\n",
    "total_orders = df_filtered[\"InvoiceNo\"].nunique()\n",
    "avg_order_value = total_revenue / total_orders if total_orders > 0 else 0\n",
    "\n",
    "st.title(\"📊 Customer Insights Dashboard\")\n",
    "st.metric(\"Total Revenue\", f\"£{total_revenue:,.0f}\")\n",
    "st.metric(\"Total Orders\", total_orders)\n",
    "st.metric(\"Avg Order Value\", f\"£{avg_order_value:,.2f}\")\n",
    "\n",
    "# Daily revenue\n",
    "daily_sales = df_filtered.resample(\"D\", on=\"InvoiceDate\")[\"TotalPrice\"].sum().reset_index()\n",
    "fig1 = px.line(daily_sales, x=\"InvoiceDate\", y=\"TotalPrice\", title=\"Daily Revenue Trend\")\n",
    "st.plotly_chart(fig1)\n",
    "\n",
    "# Top products\n",
    "top_products = df_filtered.groupby(\"Description\")[\"TotalPrice\"].sum().sort_values(ascending=False).head(10).reset_index()\n",
    "fig2 = px.bar(top_products, x=\"TotalPrice\", y=\"Description\", orientation=\"h\", title=\"Top 10 Products by Revenue\")\n",
    "st.plotly_chart(fig2)\n",
    "\n",
    "# Revenue by weekday\n",
    "df_filtered[\"Weekday\"] = df_filtered[\"InvoiceDate\"].dt.day_name()\n",
    "weekday_rev = df_filtered.groupby(\"Weekday\")[\"TotalPrice\"].sum().reindex(\n",
    "    [\"Monday\",\"Tuesday\",\"Wednesday\",\"Thursday\",\"Friday\",\"Saturday\",\"Sunday\"]).reset_index()\n",
    "fig3 = px.bar(weekday_rev, x=\"Weekday\", y=\"TotalPrice\", title=\"Revenue by Weekday\")\n",
    "st.plotly_chart(fig3)\n",
    "\n",
    "# Revenue by country (overall)\n",
    "country_rev = df.groupby(\"Country\")[\"TotalPrice\"].sum().sort_values(ascending=False).head(10).reset_index()\n",
    "fig4 = px.bar(country_rev, x=\"Country\", y=\"TotalPrice\", title=\"Top 10 Countries by Revenue\")\n",
    "st.plotly_chart(fig4)\n"
   ]
  }
 ],
 "metadata": {
  "kernelspec": {
   "display_name": "Python 3",
   "language": "python",
   "name": "python3"
  },
  "language_info": {
   "codemirror_mode": {
    "name": "ipython",
    "version": 3
   },
   "file_extension": ".py",
   "mimetype": "text/x-python",
   "name": "python",
   "nbconvert_exporter": "python",
   "pygments_lexer": "ipython3",
   "version": "3.13.7"
  }
 },
 "nbformat": 4,
 "nbformat_minor": 5
}
